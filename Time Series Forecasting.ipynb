{
 "cells": [
  {
   "cell_type": "markdown",
   "id": "acf05a7a-36af-4a65-94d8-5716af060bcc",
   "metadata": {},
   "source": [
    "# Time Series Forecasting for Energy Consumption:"
   ]
  },
  {
   "cell_type": "markdown",
   "id": "8b054186-d681-4e22-96f3-b4bc3b098744",
   "metadata": {},
   "source": [
    "## Optimizing Resource Allocation in Smart Grid Systems"
   ]
  },
  {
   "cell_type": "markdown",
   "id": "1d525d8e-207b-4eda-a617-3c491c3e92b1",
   "metadata": {},
   "source": [
    "Name: Noel Stervin\n",
    "\n",
    "DSML Student at Entri Elevate\n",
    "\n",
    "Date: 13/05/2023"
   ]
  },
  {
   "cell_type": "markdown",
   "id": "30a5b4f3-b445-4513-bab5-879cfa99e3db",
   "metadata": {},
   "source": [
    "### Importing Libraries"
   ]
  },
  {
   "cell_type": "code",
   "execution_count": 1,
   "id": "3bb17865-134a-4f39-b027-eaf82d097c5a",
   "metadata": {},
   "outputs": [],
   "source": [
    "import pandas as pd\n",
    "import numpy as np\n",
    "import matplotlib.pyplot as plt\n",
    "import seaborn as sns\n",
    "from sklearn.model_selection import train_test_split, GridSearchCV\n",
    "from sklearn.cluster import KMeans\n",
    "from sklearn.preprocessing import LabelEncoder, StandardScaler\n",
    "from sklearn.feature_selection import SelectKBest, f_regression\n",
    "from sklearn.metrics import mean_absolute_error, mean_squared_error, r2_score\n",
    "from statsmodels.tsa.holtwinters import ExponentialSmoothing\n",
    "from statsmodels.tsa.arima.model import ARIMA\n",
    "from statsmodels.tsa.statespace.sarimax import SARIMAX\n",
    "from sklearn.svm import SVR\n",
    "from sklearn.ensemble import RandomForestRegressor, GradientBoostingRegressor\n",
    "import warnings\n",
    "warnings.filterwarnings('ignore')"
   ]
  },
  {
   "cell_type": "markdown",
   "id": "c946e5c7-38dd-462e-a213-cdd66443676c",
   "metadata": {},
   "source": [
    "### Data Loading"
   ]
  },
  {
   "cell_type": "code",
   "execution_count": 2,
   "id": "9e075298-91ca-4574-8428-12a6c2ca8bf7",
   "metadata": {},
   "outputs": [],
   "source": [
    "df = pd.read_csv(\"I:\\ENTRI\\Final Project\\energy_consumption_dataset.csv\")"
   ]
  },
  {
   "cell_type": "markdown",
   "id": "86e4daf9-eca2-4151-82d6-9df0861c23a6",
   "metadata": {},
   "source": [
    "### Data Exploring"
   ]
  },
  {
   "cell_type": "code",
   "execution_count": 3,
   "id": "82c13ad7-af80-4ed2-b223-ac5835990d5d",
   "metadata": {},
   "outputs": [
    {
     "name": "stdout",
     "output_type": "stream",
     "text": [
      "<class 'pandas.core.frame.DataFrame'>\n",
      "RangeIndex: 43825 entries, 0 to 43824\n",
      "Data columns (total 15 columns):\n",
      " #   Column                              Non-Null Count  Dtype  \n",
      "---  ------                              --------------  -----  \n",
      " 0   Date/Time                           43825 non-null  object \n",
      " 1   Temperature                         43825 non-null  float64\n",
      " 2   Humidity                            43825 non-null  float64\n",
      " 3   Day of Week                         43825 non-null  object \n",
      " 4   Time of Day                         43825 non-null  object \n",
      " 5   Season                              43825 non-null  object \n",
      " 6   Holiday Indicator                   43825 non-null  int64  \n",
      " 7   Previous Day's Energy Consumption   43825 non-null  float64\n",
      " 8   Previous Week's Energy Consumption  43825 non-null  float64\n",
      " 9   Energy Price                        43825 non-null  float64\n",
      " 10  Daylight Hours                      43825 non-null  float64\n",
      " 11  Wind Speed                          43825 non-null  float64\n",
      " 12  Solar Irradiance                    43825 non-null  float64\n",
      " 13  Population Density                  43825 non-null  float64\n",
      " 14  Energy Consumption                  43825 non-null  float64\n",
      "dtypes: float64(10), int64(1), object(4)\n",
      "memory usage: 5.0+ MB\n"
     ]
    }
   ],
   "source": [
    "df.info()"
   ]
  },
  {
   "cell_type": "code",
   "execution_count": 4,
   "id": "c4e9dc82-69f9-4518-abc5-57cb551d5cb3",
   "metadata": {},
   "outputs": [
    {
     "data": {
      "text/plain": [
       "Index(['Date/Time', 'Temperature', 'Humidity', 'Day of Week', 'Time of Day',\n",
       "       'Season', 'Holiday Indicator', 'Previous Day's Energy Consumption',\n",
       "       'Previous Week's Energy Consumption', 'Energy Price', 'Daylight Hours',\n",
       "       'Wind Speed', 'Solar Irradiance', 'Population Density',\n",
       "       'Energy Consumption'],\n",
       "      dtype='object')"
      ]
     },
     "execution_count": 4,
     "metadata": {},
     "output_type": "execute_result"
    }
   ],
   "source": [
    "df.columns"
   ]
  },
  {
   "cell_type": "code",
   "execution_count": 5,
   "id": "d846d075-fb00-4caf-b0f2-85b15196639f",
   "metadata": {},
   "outputs": [
    {
     "name": "stdout",
     "output_type": "stream",
     "text": [
      "First few rows of the DataFrame:\n",
      "             Date/Time  Temperature   Humidity Day of Week Time of Day  \\\n",
      "0  2020-01-01 00:00:00    17.440675  73.264794   Wednesday       00:00   \n",
      "1  2020-01-01 01:00:00    25.759468  29.280938   Wednesday       01:00   \n",
      "2  2020-01-01 02:00:00    20.138169  55.772252   Wednesday       02:00   \n",
      "3  2020-01-01 03:00:00    17.244159  87.520015   Wednesday       03:00   \n",
      "4  2020-01-01 04:00:00    11.182740  26.383045   Wednesday       04:00   \n",
      "\n",
      "   Season  Holiday Indicator  Previous Day's Energy Consumption  \\\n",
      "0    Fall                  1                        4437.698981   \n",
      "1  Spring                  1                        2240.248004   \n",
      "2  Winter                  0                        1443.646518   \n",
      "3  Summer                  0                        2325.184898   \n",
      "4    Fall                  0                        1552.041035   \n",
      "\n",
      "   Previous Week's Energy Consumption  Energy Price  Daylight Hours  \\\n",
      "0                         1799.303909      0.123206       12.228164   \n",
      "1                         2109.917892      0.096013       14.950992   \n",
      "2                         2814.549791      0.161145       11.384525   \n",
      "3                         4680.163261      0.272355       10.109367   \n",
      "4                         4080.463060      0.163503        9.012346   \n",
      "\n",
      "   Wind Speed  Solar Irradiance  Population Density  Energy Consumption  \n",
      "0    0.059692        169.032542         1469.402213         1367.517344  \n",
      "1   19.246831        705.612502          169.805891         4078.500517  \n",
      "2   10.978002        268.142230         1988.009121         4614.282050  \n",
      "3    2.472984        262.186871          174.970181         3578.730578  \n",
      "4    4.509169        486.224719         1004.081112         4194.210499  \n"
     ]
    }
   ],
   "source": [
    "print(\"First few rows of the DataFrame:\")\n",
    "print(df.head())"
   ]
  },
  {
   "cell_type": "code",
   "execution_count": 6,
   "id": "3e93e596-2708-42e3-8bdb-363d6b9450b1",
   "metadata": {},
   "outputs": [
    {
     "name": "stdout",
     "output_type": "stream",
     "text": [
      "\n",
      "Data types of columns:\n",
      "Date/Time                              object\n",
      "Temperature                           float64\n",
      "Humidity                              float64\n",
      "Day of Week                            object\n",
      "Time of Day                            object\n",
      "Season                                 object\n",
      "Holiday Indicator                       int64\n",
      "Previous Day's Energy Consumption     float64\n",
      "Previous Week's Energy Consumption    float64\n",
      "Energy Price                          float64\n",
      "Daylight Hours                        float64\n",
      "Wind Speed                            float64\n",
      "Solar Irradiance                      float64\n",
      "Population Density                    float64\n",
      "Energy Consumption                    float64\n",
      "dtype: object\n"
     ]
    }
   ],
   "source": [
    "print(\"\\nData types of columns:\")\n",
    "print(df.dtypes)"
   ]
  },
  {
   "cell_type": "markdown",
   "id": "8f1f1093-c2d0-4997-8e2a-9d1bf6a18d5a",
   "metadata": {},
   "source": [
    "### Data Pre-processing"
   ]
  },
  {
   "cell_type": "code",
   "execution_count": 7,
   "id": "ba2ff4dc-7d71-443e-8284-b8d89d90d375",
   "metadata": {},
   "outputs": [
    {
     "name": "stdout",
     "output_type": "stream",
     "text": [
      "Missing values summary:\n",
      "Date/Time                             0\n",
      "Temperature                           0\n",
      "Humidity                              0\n",
      "Day of Week                           0\n",
      "Time of Day                           0\n",
      "Season                                0\n",
      "Holiday Indicator                     0\n",
      "Previous Day's Energy Consumption     0\n",
      "Previous Week's Energy Consumption    0\n",
      "Energy Price                          0\n",
      "Daylight Hours                        0\n",
      "Wind Speed                            0\n",
      "Solar Irradiance                      0\n",
      "Population Density                    0\n",
      "Energy Consumption                    0\n",
      "dtype: int64\n"
     ]
    }
   ],
   "source": [
    "# Handling missing values\n",
    "print(\"Missing values summary:\")\n",
    "print(df.isnull().sum())"
   ]
  },
  {
   "cell_type": "markdown",
   "id": "0764e99d-13f0-4162-894c-3f746b10c11d",
   "metadata": {},
   "source": [
    "No missing or null values."
   ]
  },
  {
   "cell_type": "code",
   "execution_count": 8,
   "id": "42d54dc4-e4fc-42c8-afdc-5456b106a141",
   "metadata": {},
   "outputs": [
    {
     "data": {
      "text/html": [
       "<div>\n",
       "<style scoped>\n",
       "    .dataframe tbody tr th:only-of-type {\n",
       "        vertical-align: middle;\n",
       "    }\n",
       "\n",
       "    .dataframe tbody tr th {\n",
       "        vertical-align: top;\n",
       "    }\n",
       "\n",
       "    .dataframe thead th {\n",
       "        text-align: right;\n",
       "    }\n",
       "</style>\n",
       "<table border=\"1\" class=\"dataframe\">\n",
       "  <thead>\n",
       "    <tr style=\"text-align: right;\">\n",
       "      <th></th>\n",
       "      <th>Date/Time</th>\n",
       "      <th>Temperature</th>\n",
       "      <th>Humidity</th>\n",
       "      <th>Day of Week</th>\n",
       "      <th>Time of Day</th>\n",
       "      <th>Season</th>\n",
       "      <th>Holiday Indicator</th>\n",
       "      <th>Previous Day's Energy Consumption</th>\n",
       "      <th>Previous Week's Energy Consumption</th>\n",
       "      <th>Energy Price</th>\n",
       "      <th>Daylight Hours</th>\n",
       "      <th>Wind Speed</th>\n",
       "      <th>Solar Irradiance</th>\n",
       "      <th>Population Density</th>\n",
       "      <th>Energy Consumption</th>\n",
       "    </tr>\n",
       "  </thead>\n",
       "  <tbody>\n",
       "  </tbody>\n",
       "</table>\n",
       "</div>"
      ],
      "text/plain": [
       "Empty DataFrame\n",
       "Columns: [Date/Time, Temperature, Humidity, Day of Week, Time of Day, Season, Holiday Indicator, Previous Day's Energy Consumption, Previous Week's Energy Consumption, Energy Price, Daylight Hours, Wind Speed, Solar Irradiance, Population Density, Energy Consumption]\n",
       "Index: []"
      ]
     },
     "execution_count": 8,
     "metadata": {},
     "output_type": "execute_result"
    }
   ],
   "source": [
    "# Dealing with Duplicate Data\n",
    "df[df.duplicated()]"
   ]
  },
  {
   "cell_type": "code",
   "execution_count": 9,
   "id": "fdcc46e8-c87f-4aa7-ae1b-968e07e7fb07",
   "metadata": {},
   "outputs": [
    {
     "name": "stdout",
     "output_type": "stream",
     "text": [
      "Outliers Summary:\n",
      "Temperature: 0 outliers detected & removed\n",
      "Humidity: 0 outliers detected & removed\n",
      "Holiday Indicator: 2219 outliers detected & removed\n",
      "Previous Day's Energy Consumption: 0 outliers detected & removed\n",
      "Previous Week's Energy Consumption: 0 outliers detected & removed\n",
      "Energy Price: 0 outliers detected & removed\n",
      "Daylight Hours: 0 outliers detected & removed\n",
      "Wind Speed: 0 outliers detected & removed\n",
      "Solar Irradiance: 0 outliers detected & removed\n",
      "Population Density: 0 outliers detected & removed\n",
      "Energy Consumption: 0 outliers detected & removed\n"
     ]
    }
   ],
   "source": [
    "# Outlier Detection and Treatment using Inter Quartile Range (IQR) Method\n",
    "\n",
    "def detect_outliers(df, column):\n",
    "    Q1 = df[column].quantile(0.25)\n",
    "    Q3 = df[column].quantile(0.75)\n",
    "    IQR = Q3 - Q1\n",
    "    lower_bound = Q1 - 1.5 * IQR\n",
    "    upper_bound = Q3 + 1.5 * IQR\n",
    "    initial_count = df.shape[0]\n",
    "    df_cleaned = df[(df[column] >= lower_bound) & (df[column] <= upper_bound)]\n",
    "    final_count = df_cleaned.shape[0]\n",
    "    outliers_removed = initial_count - final_count\n",
    "    return df_cleaned, outliers_removed\n",
    "\n",
    "numerical_columns = df.select_dtypes(include=[np.number]).columns.tolist()\n",
    "outliers_summary = {}\n",
    "\n",
    "for col in numerical_columns:\n",
    "    df, outliers_removed = detect_outliers(df, col)\n",
    "    outliers_summary[col] = outliers_removed\n",
    "\n",
    "print(\"Outliers Summary:\")\n",
    "for col, count in outliers_summary.items():\n",
    "    print(f\"{col}: {count} outliers detected & removed\")"
   ]
  },
  {
   "cell_type": "code",
   "execution_count": 10,
   "id": "b1135c28-ec24-4c9a-892e-a1e041c08a18",
   "metadata": {},
   "outputs": [],
   "source": [
    "# Feature Scaling/Normalization\n",
    "scaler = StandardScaler()\n",
    "df[numerical_columns] = scaler.fit_transform(df[numerical_columns])"
   ]
  },
  {
   "cell_type": "markdown",
   "id": "e8dc9d2e-5e4c-4c50-a6fb-727d485350b6",
   "metadata": {},
   "source": [
    "### Exploratory Data Analysis (EDA)"
   ]
  },
  {
   "cell_type": "code",
   "execution_count": 11,
   "id": "5e7907e0-83f9-458a-8903-6b24d9095b67",
   "metadata": {},
   "outputs": [
    {
     "name": "stdout",
     "output_type": "stream",
     "text": [
      "\n",
      "Statistical Summary:\n"
     ]
    },
    {
     "data": {
      "text/html": [
       "<div>\n",
       "<style scoped>\n",
       "    .dataframe tbody tr th:only-of-type {\n",
       "        vertical-align: middle;\n",
       "    }\n",
       "\n",
       "    .dataframe tbody tr th {\n",
       "        vertical-align: top;\n",
       "    }\n",
       "\n",
       "    .dataframe thead th {\n",
       "        text-align: right;\n",
       "    }\n",
       "</style>\n",
       "<table border=\"1\" class=\"dataframe\">\n",
       "  <thead>\n",
       "    <tr style=\"text-align: right;\">\n",
       "      <th></th>\n",
       "      <th>Temperature</th>\n",
       "      <th>Humidity</th>\n",
       "      <th>Holiday Indicator</th>\n",
       "      <th>Previous Day's Energy Consumption</th>\n",
       "      <th>Previous Week's Energy Consumption</th>\n",
       "      <th>Energy Price</th>\n",
       "      <th>Daylight Hours</th>\n",
       "      <th>Wind Speed</th>\n",
       "      <th>Solar Irradiance</th>\n",
       "      <th>Population Density</th>\n",
       "      <th>Energy Consumption</th>\n",
       "    </tr>\n",
       "  </thead>\n",
       "  <tbody>\n",
       "    <tr>\n",
       "      <th>count</th>\n",
       "      <td>4.160600e+04</td>\n",
       "      <td>4.160600e+04</td>\n",
       "      <td>41606.0</td>\n",
       "      <td>4.160600e+04</td>\n",
       "      <td>4.160600e+04</td>\n",
       "      <td>4.160600e+04</td>\n",
       "      <td>4.160600e+04</td>\n",
       "      <td>4.160600e+04</td>\n",
       "      <td>4.160600e+04</td>\n",
       "      <td>4.160600e+04</td>\n",
       "      <td>4.160600e+04</td>\n",
       "    </tr>\n",
       "    <tr>\n",
       "      <th>mean</th>\n",
       "      <td>-5.913220e-17</td>\n",
       "      <td>1.978047e-16</td>\n",
       "      <td>0.0</td>\n",
       "      <td>-1.076761e-16</td>\n",
       "      <td>-1.237720e-16</td>\n",
       "      <td>-3.166881e-16</td>\n",
       "      <td>2.618895e-16</td>\n",
       "      <td>-2.403713e-16</td>\n",
       "      <td>7.753363e-17</td>\n",
       "      <td>6.651839e-17</td>\n",
       "      <td>6.745767e-18</td>\n",
       "    </tr>\n",
       "    <tr>\n",
       "      <th>std</th>\n",
       "      <td>1.000012e+00</td>\n",
       "      <td>1.000012e+00</td>\n",
       "      <td>0.0</td>\n",
       "      <td>1.000012e+00</td>\n",
       "      <td>1.000012e+00</td>\n",
       "      <td>1.000012e+00</td>\n",
       "      <td>1.000012e+00</td>\n",
       "      <td>1.000012e+00</td>\n",
       "      <td>1.000012e+00</td>\n",
       "      <td>1.000012e+00</td>\n",
       "      <td>1.000012e+00</td>\n",
       "    </tr>\n",
       "    <tr>\n",
       "      <th>min</th>\n",
       "      <td>-1.718707e+00</td>\n",
       "      <td>-1.731676e+00</td>\n",
       "      <td>0.0</td>\n",
       "      <td>-1.744465e+00</td>\n",
       "      <td>-1.734019e+00</td>\n",
       "      <td>-1.724307e+00</td>\n",
       "      <td>-1.722497e+00</td>\n",
       "      <td>-1.719153e+00</td>\n",
       "      <td>-1.729471e+00</td>\n",
       "      <td>-1.733219e+00</td>\n",
       "      <td>-1.742490e+00</td>\n",
       "    </tr>\n",
       "    <tr>\n",
       "      <th>25%</th>\n",
       "      <td>-8.685917e-01</td>\n",
       "      <td>-8.711565e-01</td>\n",
       "      <td>0.0</td>\n",
       "      <td>-8.622221e-01</td>\n",
       "      <td>-8.716690e-01</td>\n",
       "      <td>-8.682177e-01</td>\n",
       "      <td>-8.707477e-01</td>\n",
       "      <td>-8.673128e-01</td>\n",
       "      <td>-8.664014e-01</td>\n",
       "      <td>-8.643945e-01</td>\n",
       "      <td>-8.638713e-01</td>\n",
       "    </tr>\n",
       "    <tr>\n",
       "      <th>50%</th>\n",
       "      <td>1.806114e-03</td>\n",
       "      <td>-1.573198e-03</td>\n",
       "      <td>0.0</td>\n",
       "      <td>8.007888e-03</td>\n",
       "      <td>5.775766e-03</td>\n",
       "      <td>1.810507e-03</td>\n",
       "      <td>-2.398989e-03</td>\n",
       "      <td>-7.848821e-03</td>\n",
       "      <td>2.609594e-03</td>\n",
       "      <td>-3.289236e-03</td>\n",
       "      <td>7.631020e-03</td>\n",
       "    </tr>\n",
       "    <tr>\n",
       "      <th>75%</th>\n",
       "      <td>8.674984e-01</td>\n",
       "      <td>8.654660e-01</td>\n",
       "      <td>0.0</td>\n",
       "      <td>8.667685e-01</td>\n",
       "      <td>8.675794e-01</td>\n",
       "      <td>8.633424e-01</td>\n",
       "      <td>8.665544e-01</td>\n",
       "      <td>8.628604e-01</td>\n",
       "      <td>8.628057e-01</td>\n",
       "      <td>8.670369e-01</td>\n",
       "      <td>8.679268e-01</td>\n",
       "    </tr>\n",
       "    <tr>\n",
       "      <th>max</th>\n",
       "      <td>1.733470e+00</td>\n",
       "      <td>1.730560e+00</td>\n",
       "      <td>0.0</td>\n",
       "      <td>1.737646e+00</td>\n",
       "      <td>1.720382e+00</td>\n",
       "      <td>1.746329e+00</td>\n",
       "      <td>1.737340e+00</td>\n",
       "      <td>1.734518e+00</td>\n",
       "      <td>1.739782e+00</td>\n",
       "      <td>1.736072e+00</td>\n",
       "      <td>1.724681e+00</td>\n",
       "    </tr>\n",
       "  </tbody>\n",
       "</table>\n",
       "</div>"
      ],
      "text/plain": [
       "        Temperature      Humidity  Holiday Indicator  \\\n",
       "count  4.160600e+04  4.160600e+04            41606.0   \n",
       "mean  -5.913220e-17  1.978047e-16                0.0   \n",
       "std    1.000012e+00  1.000012e+00                0.0   \n",
       "min   -1.718707e+00 -1.731676e+00                0.0   \n",
       "25%   -8.685917e-01 -8.711565e-01                0.0   \n",
       "50%    1.806114e-03 -1.573198e-03                0.0   \n",
       "75%    8.674984e-01  8.654660e-01                0.0   \n",
       "max    1.733470e+00  1.730560e+00                0.0   \n",
       "\n",
       "       Previous Day's Energy Consumption  Previous Week's Energy Consumption  \\\n",
       "count                       4.160600e+04                        4.160600e+04   \n",
       "mean                       -1.076761e-16                       -1.237720e-16   \n",
       "std                         1.000012e+00                        1.000012e+00   \n",
       "min                        -1.744465e+00                       -1.734019e+00   \n",
       "25%                        -8.622221e-01                       -8.716690e-01   \n",
       "50%                         8.007888e-03                        5.775766e-03   \n",
       "75%                         8.667685e-01                        8.675794e-01   \n",
       "max                         1.737646e+00                        1.720382e+00   \n",
       "\n",
       "       Energy Price  Daylight Hours    Wind Speed  Solar Irradiance  \\\n",
       "count  4.160600e+04    4.160600e+04  4.160600e+04      4.160600e+04   \n",
       "mean  -3.166881e-16    2.618895e-16 -2.403713e-16      7.753363e-17   \n",
       "std    1.000012e+00    1.000012e+00  1.000012e+00      1.000012e+00   \n",
       "min   -1.724307e+00   -1.722497e+00 -1.719153e+00     -1.729471e+00   \n",
       "25%   -8.682177e-01   -8.707477e-01 -8.673128e-01     -8.664014e-01   \n",
       "50%    1.810507e-03   -2.398989e-03 -7.848821e-03      2.609594e-03   \n",
       "75%    8.633424e-01    8.665544e-01  8.628604e-01      8.628057e-01   \n",
       "max    1.746329e+00    1.737340e+00  1.734518e+00      1.739782e+00   \n",
       "\n",
       "       Population Density  Energy Consumption  \n",
       "count        4.160600e+04        4.160600e+04  \n",
       "mean         6.651839e-17        6.745767e-18  \n",
       "std          1.000012e+00        1.000012e+00  \n",
       "min         -1.733219e+00       -1.742490e+00  \n",
       "25%         -8.643945e-01       -8.638713e-01  \n",
       "50%         -3.289236e-03        7.631020e-03  \n",
       "75%          8.670369e-01        8.679268e-01  \n",
       "max          1.736072e+00        1.724681e+00  "
      ]
     },
     "execution_count": 11,
     "metadata": {},
     "output_type": "execute_result"
    }
   ],
   "source": [
    "print(\"\\nStatistical Summary:\")\n",
    "df.describe()"
   ]
  },
  {
   "cell_type": "code",
   "execution_count": 12,
   "id": "e5adf62e-8014-48a9-aa53-46ec3e9957ab",
   "metadata": {},
   "outputs": [
    {
     "data": {
      "image/png": "[encoded data removed]",
      "text/plain": [
       "<Figure size 1000x600 with 1 Axes>"
      ]
     },
     "metadata": {},
     "output_type": "display_data"
    }
   ],
   "source": [
    "plt.figure(figsize=(10, 6))\n",
    "sns.boxplot(x='Day of Week', y='Energy Consumption', data=df)\n",
    "plt.title('Energy Consumption During Different Days of the Week')\n",
    "plt.show()"
   ]
  },
  {
   "cell_type": "code",
   "execution_count": 13,
   "id": "e0b04bc3-7c46-472d-a836-23bedf34bfd5",
   "metadata": {},
   "outputs": [
    {
     "data": {
      "image/png": "[encoded data removed]",
      "text/plain": [
       "<Figure size 1000x600 with 1 Axes>"
      ]
     },
     "metadata": {},
     "output_type": "display_data"
    }
   ],
   "source": [
    "plt.figure(figsize=(10, 6))\n",
    "sns.boxplot(x='Season', y='Energy Consumption', data=df)\n",
    "plt.title('Energy Consumption in Each Season')\n",
    "plt.show()"
   ]
  },
  {
   "cell_type": "code",
   "execution_count": 14,
   "id": "65f10fbd-1253-456e-91c3-13d7886dfbb4",
   "metadata": {},
   "outputs": [
    {
     "data": {
      "image/png": "[encoded data removed]",
      "text/plain": [
       "<Figure size 1400x700 with 1 Axes>"
      ]
     },
     "metadata": {},
     "output_type": "display_data"
    }
   ],
   "source": [
    "plt.figure(figsize=(14, 7))\n",
    "plt.plot(df.index, df['Solar Irradiance'], label='Solar Irradiance', color='orange')\n",
    "plt.plot(df.index, df['Wind Speed'], label='Wind Speed', color='blue')\n",
    "plt.title('Comparison of Solar Irradiance and Wind Speed Over Time')\n",
    "plt.xlabel('Date/Time')\n",
    "plt.ylabel('Values')\n",
    "plt.legend()\n",
    "plt.grid(True)\n",
    "plt.show()"
   ]
  },
  {
   "cell_type": "code",
   "execution_count": 15,
   "id": "f9afd5bf-ec61-4c14-b758-7b8b9b2c15cd",
   "metadata": {},
   "outputs": [
    {
     "data": {
      "image/png": "[encoded data removed]",
      "text/plain": [
       "<Figure size 1000x600 with 1 Axes>"
      ]
     },
     "metadata": {},
     "output_type": "display_data"
    }
   ],
   "source": [
    "plt.figure(figsize=(10, 6))\n",
    "sns.boxplot(x='Season', y='Population Density', data=df)\n",
    "plt.title('Relation Between Population Density and Season')\n",
    "plt.show()"
   ]
  },
  {
   "cell_type": "markdown",
   "id": "470d2c74-9e8c-4d78-bdd7-ed94113371b6",
   "metadata": {},
   "source": [
    "### Feature Engineering"
   ]
  },
  {
   "cell_type": "code",
   "execution_count": 16,
   "id": "13a14eb2-0edd-407d-8576-4e7f61b6c445",
   "metadata": {},
   "outputs": [],
   "source": [
    "# Feature Engineering\n",
    "df['Date/Time'] = pd.to_datetime(df['Date/Time'])\n",
    "df['Day'] = df['Date/Time'].dt.day\n",
    "df['Month'] = df['Date/Time'].dt.month\n",
    "df['Year'] = df['Date/Time'].dt.year\n",
    "\n",
    "label_encoder = LabelEncoder()\n",
    "df['Season'] = label_encoder.fit_transform(df['Season'])\n",
    "df['Day of Week'] = label_encoder.fit_transform(df['Day of Week'])\n",
    "df['Time of Day'] = label_encoder.fit_transform(df['Time of Day'])\n",
    "df['Holiday Indicator'] = label_encoder.fit_transform(df['Holiday Indicator'])\n",
    "\n",
    "# Handling Repetitive Encoding\n",
    "encoded_columns = ['Season', 'Day of Week', 'Time of Day', 'Holiday Indicator']\n",
    "df = df.loc[:, ~df.columns.duplicated()]\n",
    "\n",
    "# Feature Selection\n",
    "X = df.drop(['Energy Consumption', 'Date/Time'], axis=1)\n",
    "y = df['Energy Consumption']\n",
    "\n",
    "select_k_best = SelectKBest(f_regression, k=10)\n",
    "X_selected = select_k_best.fit_transform(X, y)\n",
    "\n",
    "selected_features = X.columns[select_k_best.get_support()]"
   ]
  },
  {
   "cell_type": "markdown",
   "id": "37ed5506-0c83-43e1-b5dd-97e41226369a",
   "metadata": {},
   "source": [
    "### Data Splitting"
   ]
  },
  {
   "cell_type": "code",
   "execution_count": 17,
   "id": "d16ef842-c2bf-4666-8640-ce6c9c7f6eaa",
   "metadata": {},
   "outputs": [],
   "source": [
    "X_train, X_test, y_train, y_test = train_test_split(X_selected, y, test_size=0.2, random_state=42)\n"
   ]
  },
  {
   "cell_type": "markdown",
   "id": "f164c114-2f48-4df7-8c8b-18dd5fa46cbb",
   "metadata": {},
   "source": [
    "### Model Selection and Training"
   ]
  },
  {
   "cell_type": "code",
   "execution_count": 18,
   "id": "e8546461-77da-476c-9b1b-c2da5ae75b00",
   "metadata": {},
   "outputs": [],
   "source": [
    "# Using Exponential Smoothing for Time Series Forecasting\n",
    "model_es = ExponentialSmoothing(y_train, seasonal='add', seasonal_periods=12).fit()"
   ]
  },
  {
   "cell_type": "code",
   "execution_count": 19,
   "id": "4e84bccf-ac7e-4a3d-8d30-22afdc8da591",
   "metadata": {},
   "outputs": [],
   "source": [
    "# Using ARIMA for Time Series Forecasting\n",
    "model_arima = ARIMA(y_train, order=(5, 1, 0)).fit()"
   ]
  },
  {
   "cell_type": "code",
   "execution_count": 20,
   "id": "d614d12d-34f1-46b9-9e9e-b93c2dc014ea",
   "metadata": {},
   "outputs": [],
   "source": [
    "# Reshape the target variable for SARIMA model\n",
    "y_train_series = pd.Series(y_train)\n",
    "y_train_series.index = pd.date_range(start='1/1/2020', periods=len(y_train), freq='H') \n",
    "\n",
    "# Using SARIMA for Time Series Forecasting\n",
    "model_sarima = SARIMAX(y_train_series, order=(1, 1, 1), seasonal_order=(1, 1, 1, 24)).fit()"
   ]
  },
  {
   "cell_type": "code",
   "execution_count": 21,
   "id": "d0834880-34b3-4c64-accf-77f71f93de62",
   "metadata": {},
   "outputs": [],
   "source": [
    "# Support Vector Regression (SVR)\n",
    "param_grid_svr = {'C': [1, 10, 100], 'epsilon': [0.1, 0.2, 0.5]}\n",
    "grid_search_svr = GridSearchCV(SVR(kernel='rbf'), param_grid_svr, cv=3)\n",
    "grid_search_svr.fit(X_train, y_train)\n",
    "model_svr = grid_search_svr.best_estimator_"
   ]
  },
  {
   "cell_type": "code",
   "execution_count": 22,
   "id": "d7af6eb9-8761-4a45-af4a-beb979b7ebdf",
   "metadata": {},
   "outputs": [],
   "source": [
    "# Random Forest Regressor\n",
    "param_grid_rf = {'n_estimators': [100, 200], 'max_depth': [10, 20]}\n",
    "grid_search_rf = GridSearchCV(RandomForestRegressor(random_state=42), param_grid_rf, cv=3)\n",
    "grid_search_rf.fit(X_train, y_train)\n",
    "model_rf = grid_search_rf.best_estimator_"
   ]
  },
  {
   "cell_type": "code",
   "execution_count": 23,
   "id": "85efa86b-9965-428d-a169-ebf3444c1939",
   "metadata": {},
   "outputs": [],
   "source": [
    "# Gradient Boosting Regressor\n",
    "param_grid_gb = {'n_estimators': [100, 200], 'learning_rate': [0.01, 0.1]}\n",
    "grid_search_gb = GridSearchCV(GradientBoostingRegressor(random_state=42), param_grid_gb, cv=3)\n",
    "grid_search_gb.fit(X_train, y_train)\n",
    "model_gb = grid_search_gb.best_estimator_"
   ]
  },
  {
   "cell_type": "markdown",
   "id": "3613cfdd-9822-4843-8dca-2eb0d4ff6587",
   "metadata": {},
   "source": [
    "### Model Evaluation"
   ]
  },
  {
   "cell_type": "code",
   "execution_count": 24,
   "id": "2482a5b5-bf2c-40bc-94ae-30e3c8be1536",
   "metadata": {},
   "outputs": [],
   "source": [
    "# Predictions using Exponential Smoothing\n",
    "y_pred_es = model_es.forecast(len(y_test))\n",
    "\n",
    "# Predictions using ARIMA\n",
    "y_pred_arima = model_arima.forecast(steps=len(y_test))\n",
    "\n",
    "# Predictions using SARIMA\n",
    "y_pred_sarima = model_sarima.forecast(steps=len(y_test))\n",
    "\n",
    "# Predictions using SVR\n",
    "y_pred_svr = model_svr.predict(X_test)\n",
    "\n",
    "# Predictions using Random Forest\n",
    "y_pred_rf = model_rf.predict(X_test)\n",
    "\n",
    "# Predictions using Gradient Boosting\n",
    "y_pred_gb = model_gb.predict(X_test)"
   ]
  },
  {
   "cell_type": "code",
   "execution_count": 25,
   "id": "9c5a9620-73d5-49b8-bc47-448bc89af1dd",
   "metadata": {},
   "outputs": [],
   "source": [
    "# Evaluation Metrics\n",
    "def evaluate_model(y_true, y_pred):\n",
    "    mae = mean_absolute_error(y_true, y_pred)\n",
    "    mse = mean_squared_error(y_true, y_pred)\n",
    "    rmse = np.sqrt(mse)\n",
    "    r2 = r2_score(y_true, y_pred)\n",
    "    return mae, mse, rmse, r2"
   ]
  },
  {
   "cell_type": "code",
   "execution_count": 26,
   "id": "5fdb3850-3db4-4449-919c-d5de3c98cb3a",
   "metadata": {},
   "outputs": [
    {
     "name": "stdout",
     "output_type": "stream",
     "text": [
      "Exponential Smoothing - MAE: 0.8779769778806199, MSE: 1.0196380719392284, RMSE: 1.0097712968485628, R^2: -0.00163069802689364\n"
     ]
    }
   ],
   "source": [
    "# Evaluate Exponential Smoothing Model\n",
    "mae_es, mse_es, rmse_es, r2_es = evaluate_model(y_test, y_pred_es)\n",
    "print(f\"Exponential Smoothing - MAE: {mae_es}, MSE: {mse_es}, RMSE: {rmse_es}, R^2: {r2_es}\")"
   ]
  },
  {
   "cell_type": "code",
   "execution_count": 27,
   "id": "20b10643-367d-45d3-8150-bea8d2001170",
   "metadata": {},
   "outputs": [
    {
     "name": "stdout",
     "output_type": "stream",
     "text": [
      "ARIMA - MAE: 0.9222571025184604, MSE: 1.1708017445818215, RMSE: 1.0820359257352878, R^2: -0.1501247363647773\n"
     ]
    }
   ],
   "source": [
    "# Evaluate ARIMA Model\n",
    "mae_arima, mse_arima, rmse_arima, r2_arima = evaluate_model(y_test, y_pred_arima)\n",
    "print(f\"ARIMA - MAE: {mae_arima}, MSE: {mse_arima}, RMSE: {rmse_arima}, R^2: {r2_arima}\")"
   ]
  },
  {
   "cell_type": "code",
   "execution_count": 28,
   "id": "af4ae125-70c4-4636-8588-afc1ef0e99e4",
   "metadata": {},
   "outputs": [
    {
     "name": "stdout",
     "output_type": "stream",
     "text": [
      "SARIMA - MAE: 0.8780736166173368, MSE: 1.0199925610807699, RMSE: 1.009946811015694, R^2: -0.00197892669357147\n"
     ]
    }
   ],
   "source": [
    "# Evaluate SARIMA Model\n",
    "mae_sarima, mse_sarima, rmse_sarima, r2_sarima = evaluate_model(y_test, y_pred_sarima)\n",
    "print(f\"SARIMA - MAE: {mae_sarima}, MSE: {mse_sarima}, RMSE: {rmse_sarima}, R^2: {r2_sarima}\")"
   ]
  },
  {
   "cell_type": "code",
   "execution_count": 29,
   "id": "20f1d28b-4e0a-41aa-9d7d-a101df06bebe",
   "metadata": {},
   "outputs": [
    {
     "name": "stdout",
     "output_type": "stream",
     "text": [
      "SVR - MAE: 0.8778801612974406, MSE: 1.0191972773117906, RMSE: 1.0095530086685842, R^2: -0.001197688077071657\n"
     ]
    }
   ],
   "source": [
    "# Evaluate SVR Model\n",
    "mae_svr, mse_svr, rmse_svr, r2_svr = evaluate_model(y_test, y_pred_svr)\n",
    "print(f\"SVR - MAE: {mae_svr}, MSE: {mse_svr}, RMSE: {rmse_svr}, R^2: {r2_svr}\")"
   ]
  },
  {
   "cell_type": "code",
   "execution_count": 30,
   "id": "e3c36be5-8e32-435c-a111-1c05aa1eb5f5",
   "metadata": {},
   "outputs": [
    {
     "name": "stdout",
     "output_type": "stream",
     "text": [
      "Random Forest - MAE: 0.8799186044320156, MSE: 1.0238895958195862, RMSE: 1.0118742984282119, R^2: -0.00580713763733498\n"
     ]
    }
   ],
   "source": [
    "# Evaluate Random Forest Model\n",
    "mae_rf, mse_rf, rmse_rf, r2_rf = evaluate_model(y_test, y_pred_rf)\n",
    "print(f\"Random Forest - MAE: {mae_rf}, MSE: {mse_rf}, RMSE: {rmse_rf}, R^2: {r2_rf}\")"
   ]
  },
  {
   "cell_type": "code",
   "execution_count": 31,
   "id": "eee6adbe-9036-4c5c-a820-30cd4890c2dd",
   "metadata": {},
   "outputs": [
    {
     "name": "stdout",
     "output_type": "stream",
     "text": [
      "Gradient Boosting - MAE: 0.8781799887339523, MSE: 1.0196630523690613, RMSE: 1.0097836661231263, R^2: -0.0016552372884799382\n"
     ]
    }
   ],
   "source": [
    "# Evaluate Gradient Boosting Model\n",
    "mae_gb, mse_gb, rmse_gb, r2_gb = evaluate_model(y_test, y_pred_gb)\n",
    "print(f\"Gradient Boosting - MAE: {mae_gb}, MSE: {mse_gb}, RMSE: {rmse_gb}, R^2: {r2_gb}\")"
   ]
  },
  {
   "cell_type": "code",
   "execution_count": 32,
   "id": "95e59015-c6fd-4869-86b6-2807d6bca0d3",
   "metadata": {},
   "outputs": [
    {
     "name": "stdout",
     "output_type": "stream",
     "text": [
      "Best Model: SVR\n"
     ]
    }
   ],
   "source": [
    "# Model Deployment\n",
    "models = {\n",
    "    'Exponential Smoothing': (model_es, r2_es),\n",
    "    'ARIMA': (model_arima, r2_arima),\n",
    "    'SARIMA': (model_sarima, r2_sarima),\n",
    "    'SVR': (model_svr, r2_svr),\n",
    "    'Random Forest': (model_rf, r2_rf),\n",
    "    'Gradient Boosting': (model_gb, r2_gb)\n",
    "}\n",
    "\n",
    "best_model_name = max(models, key=lambda k: models[k][1])\n",
    "best_model = models[best_model_name][0]\n",
    "\n",
    "print(f\"Best Model: {best_model_name}\")"
   ]
  },
  {
   "cell_type": "markdown",
   "id": "ea92e74c-35aa-467b-8f05-eb2db6ecc513",
   "metadata": {},
   "source": [
    "### Inferences"
   ]
  },
  {
   "cell_type": "markdown",
   "id": "b775200f-6414-4237-9a6d-e1e5132196ea",
   "metadata": {},
   "source": [
    "Tuesday shows higher energy consumption as compared to other days of the week.\n",
    "\n",
    "There is a small dip in energy consumption in fall. This can be due to the fact the climate at that time is generally not too hot or too cold.\n",
    "\n",
    "There is a dip in population density in summer and spring, suggesting people could be travelling to other countries for vacations.\n",
    "                                                                                                                   \n",
    "Solar Irradiance and Wind Speed Over Time are favourable and can help adopting sustainable and renewable energy sources in nature.    \n",
    "\n",
    "Best model is SVR.\n"
   ]
  },
  {
   "cell_type": "markdown",
   "id": "7f0ec8ff-3d30-49f5-8b54-6f65675d60d3",
   "metadata": {},
   "source": [
    "### Conclusion"
   ]
  },
  {
   "cell_type": "markdown",
   "id": "8bc27481-e0e9-402f-b05f-e78f41e29700",
   "metadata": {},
   "source": [
    "This project explores various time series forecasting models for predicting energy consumption. Techniques implemented are data splitting, model training, hyperparameter optimization using GridSearchCV, and evaluation using metrics like MAE, MSE, RMSE, and R^2. They can help discover valuable insights in this dataset. By analyzing evaluation metrics, we can select the most suitable model for forecasting future energy consumption based on our specific requirements.\n",
    "Future investigation could involve incorporating additional features or exploring advanced forecasting techniques."
   ]
  },
  {
   "cell_type": "markdown",
   "id": "5be159e8-ed7c-493e-afa7-e711bbefeab7",
   "metadata": {},
   "source": [
    "References\n",
    "DSML Course from Entri Elevate\n",
    "ChatGPT\n",
    "Google"
   ]
  },
  {
   "cell_type": "code",
   "execution_count": null,
   "id": "986b919e-5c77-4ccc-88c5-cd97e36d8be6",
   "metadata": {},
   "outputs": [],
   "source": []
  }
 ],
 "metadata": {
  "kernelspec": {
   "display_name": "Python 3 (ipykernel)",
   "language": "python",
   "name": "python3"
  },
  "language_info": {
   "codemirror_mode": {
    "name": "ipython",
    "version": 3
   },
   "file_extension": ".py",
   "mimetype": "text/x-python",
   "name": "python",
   "nbconvert_exporter": "python",
   "pygments_lexer": "ipython3",
   "version": "3.11.4"
  }
 },
 "nbformat": 4,
 "nbformat_minor": 5
}
